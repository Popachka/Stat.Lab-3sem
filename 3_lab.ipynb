{
 "cells": [
  {
   "cell_type": "code",
   "execution_count": 30,
   "metadata": {},
   "outputs": [],
   "source": [
    "import pandas as pd\n",
    "import numpy as np\n",
    "from order_data import interval_data_l, interval_data_r, distribution_l, distribution_r, interval_l, interval_r"
   ]
  },
  {
   "cell_type": "code",
   "execution_count": 31,
   "metadata": {},
   "outputs": [],
   "source": [
    "data = pd.read_excel(\"D:\\__Study__\\CluseterTerm\\StatLab\\Сдать графики\\\\ans_1.xlsx\")\n",
    "data = data[[\"Левая\",\"Правая\"]]\n",
    "\n"
   ]
  },
  {
   "cell_type": "code",
   "execution_count": 32,
   "metadata": {},
   "outputs": [
    {
     "data": {
      "text/html": [
       "<div>\n",
       "<style scoped>\n",
       "    .dataframe tbody tr th:only-of-type {\n",
       "        vertical-align: middle;\n",
       "    }\n",
       "\n",
       "    .dataframe tbody tr th {\n",
       "        vertical-align: top;\n",
       "    }\n",
       "\n",
       "    .dataframe thead th {\n",
       "        text-align: right;\n",
       "    }\n",
       "</style>\n",
       "<table border=\"1\" class=\"dataframe\">\n",
       "  <thead>\n",
       "    <tr style=\"text-align: right;\">\n",
       "      <th></th>\n",
       "      <th>Unnamed: 0</th>\n",
       "      <th>Left</th>\n",
       "      <th>Right</th>\n",
       "    </tr>\n",
       "  </thead>\n",
       "  <tbody>\n",
       "    <tr>\n",
       "      <th>0</th>\n",
       "      <td>Выборочная средняя</td>\n",
       "      <td>4.197</td>\n",
       "      <td>4.593</td>\n",
       "    </tr>\n",
       "    <tr>\n",
       "      <th>1</th>\n",
       "      <td>Выборочная дисперсия</td>\n",
       "      <td>2.158</td>\n",
       "      <td>1.699</td>\n",
       "    </tr>\n",
       "    <tr>\n",
       "      <th>2</th>\n",
       "      <td>Исправленная выборочная дисперсия</td>\n",
       "      <td>2.194</td>\n",
       "      <td>1.728</td>\n",
       "    </tr>\n",
       "    <tr>\n",
       "      <th>3</th>\n",
       "      <td>Мода</td>\n",
       "      <td>33.315</td>\n",
       "      <td>33.315</td>\n",
       "    </tr>\n",
       "    <tr>\n",
       "      <th>4</th>\n",
       "      <td>Медиана</td>\n",
       "      <td>32.834</td>\n",
       "      <td>33.307</td>\n",
       "    </tr>\n",
       "  </tbody>\n",
       "</table>\n",
       "</div>"
      ],
      "text/plain": [
       "                          Unnamed: 0    Left   Right\n",
       "0                 Выборочная средняя   4.197   4.593\n",
       "1               Выборочная дисперсия   2.158   1.699\n",
       "2  Исправленная выборочная дисперсия   2.194   1.728\n",
       "3                               Мода  33.315  33.315\n",
       "4                            Медиана  32.834  33.307"
      ]
     },
     "execution_count": 32,
     "metadata": {},
     "output_type": "execute_result"
    }
   ],
   "source": [
    "\n",
    "stat_sample = pd.read_excel('D:\\__Study__\\CluseterTerm\\StatLab\\Group_Statistic.xlsx')\n",
    "\n",
    "left_mean = stat_sample.iloc[:1]['Left'].values[0]\n",
    "right_mean = stat_sample.iloc[:1]['Right'].values[0]\n",
    "\n",
    "left_variance = stat_sample.iloc[:2]['Left'].values[0]\n",
    "right_variance = stat_sample.iloc[:2]['Right'].values[0]\n",
    "\n",
    "left_fix_variance = stat_sample.iloc[:3]['Left'].values[0]\n",
    "right_fix_variance = stat_sample.iloc[:3]['Right'].values[0]\n",
    "\n",
    "left_mode = stat_sample.iloc[:4]['Left'].values[0]\n",
    "right_mode = stat_sample.iloc[:4]['Right'].values[0]\n",
    "\n",
    "left_median = stat_sample.iloc[:51]['Left'].values[0]\n",
    "right_median = stat_sample.iloc[:5]['Right'].values[0]\n",
    "\n",
    "stat_sample"
   ]
  },
  {
   "cell_type": "code",
   "execution_count": 33,
   "metadata": {},
   "outputs": [
    {
     "name": "stdout",
     "output_type": "stream",
     "text": [
      "Мат.ожидание 32.52\n",
      "Cтандартное отклонение 1.53\n",
      "Интервалы трех сигм  [27.93 29.46 30.99 32.52]\n",
      "Легенда\n",
      "0 - Математическое ожидание\n",
      "1 - 1 стандартное отклонение\n",
      "2 - 2 стандартных отклонения\n",
      "3 - 3 стандартных отклонения\n",
      "Данные которые лежат в пределах 3-ех сигм  - 27, а всего 61\n",
      "То есть около 40% данных\n"
     ]
    }
   ],
   "source": [
    "left_val = data[['Левая']].to_numpy()\n",
    "\n",
    "# Мат. ожидание и стандартное отклонение\n",
    "expection = np.around(np.mean(left_val),2)\n",
    "std = np.around(np.sqrt(np.var(left_val)),2)\n",
    "print(f'Мат.ожидание {expection}\\nCтандартное отклонение {std}')\n",
    "\n",
    "intervals_third_sigm = np.around([expection - i * std for i in range(0, 4)],2)\n",
    "list_of_value = {interval: [] for interval in range(len(intervals_third_sigm))}\n",
    "intervals_third_sigm = intervals_third_sigm[::-1]\n",
    "print('Интервалы трех сигм ', intervals_third_sigm)\n",
    "\n",
    "for value in left_val:\n",
    "    for i in range(len(intervals_third_sigm) - 1):\n",
    "        if intervals_third_sigm[i] <= value  < intervals_third_sigm[i+1]:\n",
    "            list_of_value[i].append(float(value)) \n",
    "            break\n",
    "print(\n",
    "    \"Легенда\\n\"\n",
    "    \"0 - Математическое ожидание\\n\"\n",
    "    \"1 - 1 стандартное отклонение\\n\"\n",
    "    \"2 - 2 стандартных отклонения\\n\"\n",
    "    \"3 - 3 стандартных отклонения\"\n",
    ")\n",
    "list_of_value = {i: len(arr) for i, arr in list_of_value.items()}\n",
    "\n",
    "\n",
    "total_values = sum(list_of_value.values())\n",
    "print(f'Данные которые лежат в пределах 3-ех сигм  - {total_values}, а всего 61')\n",
    "print(f'То есть около {total_values*100/67:.0f}% данных')"
   ]
  },
  {
   "cell_type": "code",
   "execution_count": 34,
   "metadata": {},
   "outputs": [
    {
     "name": "stdout",
     "output_type": "stream",
     "text": [
      "Мат.ожидание 32.57\n",
      "Cтандартное отклонение 1.53\n",
      "Интервалы трех сигм  [27.98 29.51 31.04 32.57]\n",
      "Легенда\n",
      "0 - Математическое ожидание\n",
      "1 - 1 стандартное отклонение\n",
      "2 - 2 стандартных отклонения\n",
      "3 - 3 стандартных отклонения\n",
      "Данные которые лежат в пределах 3-ех сигм  - 28, а всего 61\n",
      "То есть около 42% данных\n"
     ]
    }
   ],
   "source": [
    "right_val = data[['Правая']].to_numpy()\n",
    "# Мат. ожидание и стандартное отклонение\n",
    "expection = np.around(np.mean(right_val),2)\n",
    "std = np.around(np.sqrt(np.var(right_val)),2)\n",
    "print(f'Мат.ожидание {expection}\\nCтандартное отклонение {std}')\n",
    "\n",
    "intervals_third_sigm = np.around([expection - i * std for i in range(0, 4)],2)\n",
    "list_of_value = {interval: [] for interval in range(len(intervals_third_sigm))}\n",
    "intervals_third_sigm = intervals_third_sigm[::-1]\n",
    "print('Интервалы трех сигм ', intervals_third_sigm)\n",
    "\n",
    "for value in right_val:\n",
    "    for i in range(len(intervals_third_sigm) - 1):\n",
    "        if intervals_third_sigm[i] <= value  < intervals_third_sigm[i+1]:\n",
    "            list_of_value[i].append(float(value)) \n",
    "            break\n",
    "print(\n",
    "    \"Легенда\\n\"\n",
    "    \"0 - Математическое ожидание\\n\"\n",
    "    \"1 - 1 стандартное отклонение\\n\"\n",
    "    \"2 - 2 стандартных отклонения\\n\"\n",
    "    \"3 - 3 стандартных отклонения\"\n",
    ")\n",
    "list_of_value = {i: len(arr) for i, arr in list_of_value.items()}\n",
    "\n",
    "\n",
    "total_values = sum(list_of_value.values())\n",
    "print(f'Данные которые лежат в пределах 3-ех сигм  - {total_values}, а всего 61')\n",
    "print(f'То есть около {total_values*100/67:.0f}% данных')"
   ]
  },
  {
   "cell_type": "code",
   "execution_count": 35,
   "metadata": {},
   "outputs": [
    {
     "name": "stdout",
     "output_type": "stream",
     "text": [
      "Левая: Ассиметрия [-0.70425741], Экцесс [0.34142672]\n",
      "Некоторая правоскошенность и осторота пика, но в пределах нормального диапазона\n",
      "Правая: Ассиметрия [-0.81621235], Экцесс [1.52063103]\n",
      "Некоторая правоскошенность и более отсрый пик, что означает, что данные более концетрированы вокруг мат ожидания по сравнению с норм. распределением\n"
     ]
    }
   ],
   "source": [
    "# Через выборочную асимметрию и экцесс\n",
    "from scipy.stats import skew, kurtosis\n",
    "\n",
    "skewness = skew(left_val)\n",
    "kurt = kurtosis(left_val) \n",
    "print(f'Левая: Ассиметрия {skewness}, Экцесс {kurt}')\n",
    "print('Некоторая правоскошенность и осторота пика, но в пределах нормального диапазона')\n",
    "print(f'Правая: Ассиметрия {skew(right_val)}, Экцесс {kurtosis(right_val)}')\n",
    "print('Некоторая правоскошенность и более отсрый пик, что означает, что данные более концетрированы вокруг мат ожидания по сравнению с норм. распределением')\n"
   ]
  },
  {
   "cell_type": "code",
   "execution_count": 36,
   "metadata": {},
   "outputs": [
    {
     "name": "stdout",
     "output_type": "stream",
     "text": [
      "Выборочная средняя 31.22, Стандартное отклонение 2.17\n",
      "Ожидаемые частоты:\n",
      "Интервал 0: 1.00\n",
      "Интервал 1: 1.00\n",
      "Интервал 2: 7.00\n",
      "Интервал 3: 11.00\n",
      "Интервал 4: 10.00\n",
      "Интервал 5: 18.00\n",
      "Интервал 6: 12.00\n",
      "Статистика хи-квадрат: 0.06557377049180325\n",
      "P-значение: 0.9999942683636461\n",
      "0.9999942683636461 это означает что нет статистически значимых различий\n",
      "А на основе 0.06557377049180325 видим что значения очень близки\n"
     ]
    }
   ],
   "source": [
    "# По хи квадрату Пирсона\n",
    "from scipy.stats import chisquare\n",
    "sample_means = [np.mean(values) for values in interval_data_l.values()]\n",
    "value_mean = np.around(np.mean(sample_means),2)\n",
    "sample_std = np.around(np.sqrt(np.var(sample_means)),2)\n",
    "print(f'Выборочная средняя {value_mean}, Стандартное отклонение {sample_std}')\n",
    "\n",
    "# 1. Рассчитываем общее количество значений\n",
    "total_values = sum(len(values) for values in interval_data_l.values())\n",
    "\n",
    "# 2. Рассчитываем вероятности попадания значений в каждый интервал\n",
    "expected_frequencies = []\n",
    "for values in interval_data_l.values():\n",
    "    probability = len(values) / total_values\n",
    "    expected_frequency = probability * total_values\n",
    "    expected_frequencies.append(expected_frequency)\n",
    "\n",
    "# 3. Печатаем ожидаемые частоты\n",
    "print(\"Ожидаемые частоты:\")\n",
    "for i, frequency in enumerate(expected_frequencies):\n",
    "    print(f\"Интервал {i}: {frequency:.2f}\")\n",
    "\n",
    "# Ручная коррекция ожидаемых частот для обеспечения точного совпадения суммы\n",
    "total_observed = sum(list(distribution_l.values()))\n",
    "total_expected = sum(expected_frequencies)\n",
    "ratio = total_observed / total_expected\n",
    "corrected_expected_frequencies = [freq * ratio for freq in expected_frequencies]\n",
    "# Рассчитываем статистику хи-квадрат и p-значение\n",
    "chi2stat, p_val = chisquare(list(distribution_l.values()), corrected_expected_frequencies)\n",
    "print(f\"Статистика хи-квадрат: {chi2stat}\")\n",
    "print(f\"P-значение: {p_val}\")\n",
    "print(f'{p_val} это означает что нет статистически значимых различий\\nА на основе {chi2stat} видим что значения очень близки')"
   ]
  },
  {
   "cell_type": "code",
   "execution_count": 37,
   "metadata": {},
   "outputs": [
    {
     "name": "stdout",
     "output_type": "stream",
     "text": [
      "Выборочная средняя 30.74, Стандартное отклонение 2.12\n",
      "Ожидаемые частоты:\n",
      "Интервал 0: 1.00\n",
      "Интервал 1: 1.00\n",
      "Интервал 2: 1.00\n",
      "Интервал 3: 8.00\n",
      "Интервал 4: 12.00\n",
      "Интервал 5: 20.00\n",
      "Интервал 6: 8.00\n",
      "Статистика хи-квадрат: 5.830508474576271\n",
      "P-значение: 0.4424421588332689\n",
      "0.4424421588332689 это означает что имеет статистически значимые различия\n",
      "А на основе 5.830508474576271 видим что значения не очень близки\n"
     ]
    }
   ],
   "source": [
    "sample_means = [np.mean(values) for values in interval_data_r.values()]\n",
    "value_mean = np.around(np.mean(sample_means),2)\n",
    "sample_std = np.around(np.sqrt(np.var(sample_means)),2)\n",
    "print(f'Выборочная средняя {value_mean}, Стандартное отклонение {sample_std}')\n",
    "\n",
    "# 1. Рассчитываем общее количество значений\n",
    "total_values = sum(len(values) for values in interval_data_r.values())\n",
    "\n",
    "# 2. Рассчитываем вероятности попадания значений в каждый интервал\n",
    "expected_frequencies = []\n",
    "for values in interval_data_r.values():\n",
    "    probability = len(values) / total_values\n",
    "    expected_frequency = probability * total_values\n",
    "    expected_frequencies.append(expected_frequency)\n",
    "\n",
    "# 3. Печатаем ожидаемые частоты\n",
    "print(\"Ожидаемые частоты:\")\n",
    "for i, frequency in enumerate(expected_frequencies):\n",
    "    print(f\"Интервал {i}: {frequency:.2f}\")\n",
    "\n",
    "# Ручная коррекция ожидаемых частот для обеспечения точного совпадения суммы\n",
    "total_observed = sum(list(distribution_r.values()))\n",
    "total_expected = sum(expected_frequencies)\n",
    "ratio = total_observed / total_expected\n",
    "corrected_expected_frequencies = [freq * ratio for freq in expected_frequencies]\n",
    "# Рассчитываем статистику хи-квадрат и p-значение\n",
    "chi2stat, p_val = chisquare(list(distribution_r.values()), corrected_expected_frequencies)\n",
    "print(f\"Статистика хи-квадрат: {chi2stat}\")\n",
    "print(f\"P-значение: {p_val}\")\n",
    "print(f'{p_val} это означает что имеет статистически значимые различия\\nА на основе {chi2stat} видим что значения не очень близки')"
   ]
  }
 ],
 "metadata": {
  "kernelspec": {
   "display_name": "myvenv",
   "language": "python",
   "name": "python3"
  },
  "language_info": {
   "codemirror_mode": {
    "name": "ipython",
    "version": 3
   },
   "file_extension": ".py",
   "mimetype": "text/x-python",
   "name": "python",
   "nbconvert_exporter": "python",
   "pygments_lexer": "ipython3",
   "version": "3.11.6"
  }
 },
 "nbformat": 4,
 "nbformat_minor": 2
}
