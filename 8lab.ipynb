{
 "cells": [
  {
   "cell_type": "code",
   "execution_count": 1,
   "metadata": {},
   "outputs": [],
   "source": [
    "import pandas as pd\n",
    "import numpy as np\n",
    "from sklearn.model_selection import train_test_split"
   ]
  },
  {
   "cell_type": "code",
   "execution_count": 2,
   "metadata": {},
   "outputs": [],
   "source": [
    "data_last = pd.read_excel(\"D:\\__Works__\\Лабы\\Stat.Lab-3sem\\\\6lab(2016-2017).xlsx\")\n",
    "\n",
    "data_last = data_last.drop('Unnamed: 0', axis=1)\n",
    "data_last= data_last.dropna()\n",
    "data_last = data_last['Цифра']\n",
    "\n",
    "data_new = pd.read_excel(\"D:\\__Works__\\Лабы\\Stat.Lab-3sem\\\\6lab(2017-2018).xlsx\")\n",
    "\n",
    "data_new = data_new.drop('id', axis=1)\n",
    "data_new['Цифра'] = data_new['Цифра'].astype(float)\n",
    "data_new = data_new['Цифра']"
   ]
  },
  {
   "cell_type": "code",
   "execution_count": 9,
   "metadata": {},
   "outputs": [
    {
     "name": "stdout",
     "output_type": "stream",
     "text": [
      "Размеры выборок 2017-2018:  41\n",
      "Размеры выборок 2016-2017:  46\n"
     ]
    }
   ],
   "source": [
    "data_2017_2018, _= train_test_split(data_new, test_size=0.31, random_state=42)\n",
    "data_2016_2017, _ = train_test_split(data_last, test_size=0.7, random_state=42)\n",
    "print('Размеры выборок 2017-2018: ', len(data_2017_2018))\n",
    "print('Размеры выборок 2016-2017: ', len(data_2016_2017))\n"
   ]
  },
  {
   "cell_type": "markdown",
   "metadata": {},
   "source": [
    "H0 - Выборки однородны. H1 - Выборки различны"
   ]
  },
  {
   "cell_type": "code",
   "execution_count": 11,
   "metadata": {},
   "outputs": [
    {
     "name": "stdout",
     "output_type": "stream",
     "text": [
      "U_stat - 927.0, p = 0.8951014503282844\n",
      "Принимаем нулевую гипотезу - выборки однородны\n"
     ]
    }
   ],
   "source": [
    "from scipy.stats import mannwhitneyu\n",
    "\n",
    "U_stat, p_value = mannwhitneyu(data_2016_2017, data_2017_2018)\n",
    "\n",
    "print(f'U_stat - {U_stat}, p = {p_value}')\n",
    "\n",
    "if p_value > 0.05:\n",
    "    print('Принимаем нулевую гипотезу - выборки однородны')\n",
    "else:\n",
    "    print('Отвергаем нулевую - выборки различны')"
   ]
  },
  {
   "cell_type": "code",
   "execution_count": 13,
   "metadata": {},
   "outputs": [
    {
     "name": "stdout",
     "output_type": "stream",
     "text": [
      "Размеры выборок 2017-2018:  41\n",
      "Размеры выборок 2016-2017:  42 43\n"
     ]
    }
   ],
   "source": [
    "data_2017_2018, _= train_test_split(data_new, test_size=0.31, random_state=42)\n",
    "data_2016_2017, _ = train_test_split(data_last, test_size=0.293, random_state=42)\n",
    "data_2016_2017, data_2016_2017_2 = train_test_split(data_2016_2017, test_size=0.61, random_state=42)\n",
    "data_2016_2017__, data_2016_2017_2 = train_test_split(data_2016_2017_2, test_size=0.65, random_state=42)\n",
    "\n",
    "\n",
    "print('Размеры выборок 2017-2018: ', len(data_2017_2018))\n",
    "print('Размеры выборок 2016-2017: ', len(data_2016_2017), len(data_2016_2017_2))\n",
    "\n"
   ]
  },
  {
   "cell_type": "code",
   "execution_count": 15,
   "metadata": {},
   "outputs": [
    {
     "name": "stdout",
     "output_type": "stream",
     "text": [
      "H_stat - 3.262115806980549, p = 0.19572240914619143\n",
      "Принимаем нулевую гипотезу - выборки однородны\n"
     ]
    }
   ],
   "source": [
    "from scipy.stats import kruskal\n",
    "\n",
    "H_stat, p_value = kruskal(data_2016_2017, data_2017_2018, data_2016_2017_2)\n",
    "\n",
    "print(f'H_stat - {H_stat}, p = {p_value}')\n",
    "\n",
    "if p_value > 0.05:\n",
    "    print('Принимаем нулевую гипотезу - выборки однородны')\n",
    "else:\n",
    "    print('Отвергаем нулевую - выборки различны')"
   ]
  }
 ],
 "metadata": {
  "kernelspec": {
   "display_name": ".venv",
   "language": "python",
   "name": "python3"
  },
  "language_info": {
   "codemirror_mode": {
    "name": "ipython",
    "version": 3
   },
   "file_extension": ".py",
   "mimetype": "text/x-python",
   "name": "python",
   "nbconvert_exporter": "python",
   "pygments_lexer": "ipython3",
   "version": "3.11.6"
  }
 },
 "nbformat": 4,
 "nbformat_minor": 2
}
