{
 "cells": [
  {
   "cell_type": "code",
   "execution_count": 2,
   "metadata": {},
   "outputs": [],
   "source": [
    "import pandas as pd\n",
    "import numpy as np\n",
    "from sklearn.model_selection import train_test_split"
   ]
  },
  {
   "cell_type": "code",
   "execution_count": 4,
   "metadata": {},
   "outputs": [],
   "source": [
    "data_last = pd.read_excel(\"D:\\__Works__\\Лабы\\Stat.Lab-3sem\\\\6lab(2016-2017).xlsx\")\n",
    "\n",
    "data_last = data_last.drop('Unnamed: 0', axis=1)\n",
    "data_last= data_last.dropna()\n",
    "data_last = data_last['Цифра']\n"
   ]
  },
  {
   "cell_type": "code",
   "execution_count": 5,
   "metadata": {},
   "outputs": [],
   "source": [
    "data_new = pd.read_excel(\"D:\\__Works__\\Лабы\\Stat.Lab-3sem\\\\6lab(2017-2018).xlsx\")\n",
    "\n",
    "data_new = data_new.drop('id', axis=1)\n",
    "data_new['Цифра'] = data_new['Цифра'].astype(float)\n",
    "data_new = data_new['Цифра']"
   ]
  },
  {
   "cell_type": "code",
   "execution_count": 16,
   "metadata": {},
   "outputs": [
    {
     "name": "stdout",
     "output_type": "stream",
     "text": [
      "Размеры выборок 2017-2018:  54\n",
      "Размеры выборок 2016-2017:  54\n"
     ]
    }
   ],
   "source": [
    "data_2017_2018, _= train_test_split(data_new, test_size=0.1, random_state=42)\n",
    "data_2016_2017, _ = train_test_split(data_last, test_size=0.645, random_state=42)\n",
    "print('Размеры выборок 2017-2018: ', len(data_2017_2018))\n",
    "print('Размеры выборок 2016-2017: ', len(data_2016_2017))\n"
   ]
  },
  {
   "cell_type": "markdown",
   "metadata": {},
   "source": [
    "H0 - дисперсии выборок равны. H1 - дисперсии не равны"
   ]
  },
  {
   "cell_type": "code",
   "execution_count": 25,
   "metadata": {},
   "outputs": [
    {
     "name": "stdout",
     "output_type": "stream",
     "text": [
      "451.2470300489169 227.48742138364784\n",
      "F - 1.983613103987442, p - 0.006987696628673046\n",
      "Мы отверагем нулевую гипотезу\n"
     ]
    }
   ],
   "source": [
    "import scipy.stats\n",
    "#Проверка по критерию фишера равенство дисперсий этих выборок.\n",
    "\n",
    "# Вычисление дисперсий выборок\n",
    "var_2017_2018 = np.var(data_2017_2018, ddof=1)\n",
    "var_2016_2017 = np.var(data_2016_2017, ddof=1)\n",
    "print(var_2016_2017, var_2017_2018)\n",
    "\n",
    "# Проверка равенства дисперсий выборок с использованием критерия Фишера\n",
    "f_stat = var_2016_2017 / var_2017_2018\n",
    "\n",
    "degrees_of_freedom = 53\n",
    "\n",
    "p = 1 - scipy.stats.f.cdf(f_stat, degrees_of_freedom,degrees_of_freedom)\n",
    "\n",
    "print(f'F - {f_stat}, p - {p}')\n",
    "if p < 0.05:\n",
    "    print('Мы отверагем нулевую гипотезу')\n",
    "else:\n",
    "    print('Мы принимаем нулевую гипотезу')"
   ]
  },
  {
   "cell_type": "code",
   "execution_count": 42,
   "metadata": {},
   "outputs": [
    {
     "name": "stdout",
     "output_type": "stream",
     "text": [
      "Ручной расчет t-статистики: 0.585020649750228\n",
      "t-статистика (scipy): 0.585020649750228\n",
      "p-значение (scipy): 0.5597771060797965\n"
     ]
    }
   ],
   "source": [
    "from scipy.stats import ttest_ind\n",
    "\n",
    "SD = np.sqrt((var_2016_2017 + var_2017_2018) / 2)\n",
    "t = (np.mean(data_2016_2017) - np.mean(data_2017_2018)) / (SD * np.sqrt(2 / len(data_2016_2017)))\n",
    "(t_stat, p_val) = scipy.stats.ttest_ind(data_2016_2017,data_2017_2018)\n",
    "print(\"Ручной расчет t-статистики:\", t)\n",
    "print(\"t-статистика (scipy):\", t_stat)\n",
    "print(\"p-значение (scipy):\", p_val)"
   ]
  },
  {
   "cell_type": "markdown",
   "metadata": {},
   "source": [
    "Беря критическое значение 0.05, то можно сделать вывод. Т.к\n",
    "p - значение ябольше, то нельзя отклонить гипотезу о равенстве средних значений."
   ]
  },
  {
   "cell_type": "markdown",
   "metadata": {},
   "source": []
  }
 ],
 "metadata": {
  "kernelspec": {
   "display_name": "myvenv",
   "language": "python",
   "name": "python3"
  },
  "language_info": {
   "codemirror_mode": {
    "name": "ipython",
    "version": 3
   },
   "file_extension": ".py",
   "mimetype": "text/x-python",
   "name": "python",
   "nbconvert_exporter": "python",
   "pygments_lexer": "ipython3",
   "version": "3.11.6"
  }
 },
 "nbformat": 4,
 "nbformat_minor": 2
}
