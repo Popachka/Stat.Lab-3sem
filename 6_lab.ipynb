{
 "cells": [
  {
   "cell_type": "code",
   "execution_count": 157,
   "metadata": {},
   "outputs": [],
   "source": [
    "import pandas as pd\n",
    "import numpy as np\n",
    "from sklearn.model_selection import train_test_split"
   ]
  },
  {
   "cell_type": "code",
   "execution_count": 158,
   "metadata": {},
   "outputs": [],
   "source": [
    "data_last = pd.read_excel(\"D:\\__Study__\\CluseterTerm\\StatLab\\\\6lab(2016-2017).xlsx\")\n",
    "\n",
    "data_last = data_last.drop('Unnamed: 0', axis=1)\n",
    "data_last= data_last.dropna()\n",
    "data_last = data_last['Цифра']\n"
   ]
  },
  {
   "cell_type": "code",
   "execution_count": 159,
   "metadata": {},
   "outputs": [],
   "source": [
    "data_new = pd.read_excel(\"D:\\__Study__\\CluseterTerm\\StatLab\\\\6lab(2017-2018).xlsx\")\n",
    "\n",
    "data_new = data_new.drop('id', axis=1)\n",
    "data_new['Цифра'] = data_new['Цифра'].astype(float)\n",
    "data_new = data_new['Цифра']"
   ]
  },
  {
   "cell_type": "code",
   "execution_count": 160,
   "metadata": {},
   "outputs": [
    {
     "name": "stdout",
     "output_type": "stream",
     "text": [
      "Размеры выборок 2017-2018:  30 30\n",
      "Размеры выборок 2016-2017:  77 77\n"
     ]
    }
   ],
   "source": [
    "train_data_new, test_data_new = train_test_split(data_new, test_size=0.5, random_state=42)\n",
    "train_data_last, test_data_last = train_test_split(data_last, test_size=0.5, random_state=42)\n",
    "print('Размеры выборок 2017-2018: ', len(train_data_new), len(test_data_new))\n",
    "print('Размеры выборок 2016-2017: ', len(train_data_last), len(test_data_last))\n"
   ]
  },
  {
   "cell_type": "code",
   "execution_count": 161,
   "metadata": {},
   "outputs": [
    {
     "name": "stdout",
     "output_type": "stream",
     "text": [
      "F-статистика для выборок 2017-2018 годов: 1.120088850608581\n",
      "F-статистика для выборок 2016-2017 годов: 0.9799515035251829\n"
     ]
    }
   ],
   "source": [
    "#Проверка по критерию фишера равенство дисперсий этих выборок.\n",
    "\n",
    "# Вычисление дисперсий выборок 2017-2018 годов\n",
    "var_last_train = np.var(train_data_last, ddof=1)  # ddof=1 используется для вычисления выборочной дисперсии\n",
    "var_last_test = np.var(test_data_last, ddof=1)\n",
    "\n",
    "# Вычисление дисперсий выборок 2016-2017 годов\n",
    "var_new_train = np.var(train_data_new, ddof=1)\n",
    "var_new_test = np.var(test_data_new, ddof=1)\n",
    "\n",
    "# Проверка равенства дисперсий выборок с использованием критерия Фишера\n",
    "f_statistic_last = var_last_train / var_last_test\n",
    "f_statistic_new = var_new_train / var_new_test\n",
    "\n",
    "print(\"F-статистика для выборок 2017-2018 годов:\", f_statistic_last)\n",
    "print(\"F-статистика для выборок 2016-2017 годов:\", f_statistic_new)"
   ]
  },
  {
   "cell_type": "markdown",
   "metadata": {},
   "source": [
    "F - статистика не показывает значительных различий в дисперсиях, беря критическое значение 2.0\n",
    "Тогда проверяем по t критерию"
   ]
  },
  {
   "cell_type": "code",
   "execution_count": 162,
   "metadata": {},
   "outputs": [
    {
     "name": "stdout",
     "output_type": "stream",
     "text": [
      "T-статистика для выборок 2016-2017 годов: -0.8908902510602199\n",
      "T-статистика для выборок 2017-2018 годов: 1.4503279236206525\n"
     ]
    }
   ],
   "source": [
    "from scipy.stats import ttest_ind\n",
    "# Проверка равенства средних значений выборок 2016-2017 годов\n",
    "t_stat_last, p_value_last = ttest_ind(train_data_last, test_data_last, equal_var=True)  # equal_var=True, если дисперсии равны\n",
    "print(\"T-статистика для выборок 2016-2017 годов:\", t_stat_last)\n",
    "\n",
    "# Проверка равенства средних значений выборок 2017-2018 годов\n",
    "t_stat_new, p_value_new = ttest_ind(train_data_new, test_data_new, equal_var=True)  # equal_var=True, если дисперсии равны\n",
    "print(\"T-статистика для выборок 2017-2018 годов:\", t_stat_new)"
   ]
  },
  {
   "cell_type": "code",
   "execution_count": 163,
   "metadata": {},
   "outputs": [
    {
     "name": "stdout",
     "output_type": "stream",
     "text": [
      "P-значение для выборок 2017-2018 годов: 0.15235375290630665\n",
      "P-значение для выборок 2016-2017 годов: 0.37439605227761374\n"
     ]
    }
   ],
   "source": [
    "print(\"P-значение для выборок 2017-2018 годов:\", p_value_new)\n",
    "print(\"P-значение для выборок 2016-2017 годов:\", p_value_last)\n"
   ]
  },
  {
   "cell_type": "markdown",
   "metadata": {},
   "source": [
    "Беря критическое значение 0.05, то можно сделать вывод. Т.к оба p - значения больше, то нельзя отклонить гипотезу о равенстве средних значений."
   ]
  }
 ],
 "metadata": {
  "kernelspec": {
   "display_name": "myvenv",
   "language": "python",
   "name": "python3"
  },
  "language_info": {
   "codemirror_mode": {
    "name": "ipython",
    "version": 3
   },
   "file_extension": ".py",
   "mimetype": "text/x-python",
   "name": "python",
   "nbconvert_exporter": "python",
   "pygments_lexer": "ipython3",
   "version": "3.11.6"
  }
 },
 "nbformat": 4,
 "nbformat_minor": 2
}
