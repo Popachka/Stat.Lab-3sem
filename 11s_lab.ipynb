{
 "cells": [
  {
   "cell_type": "code",
   "execution_count": 3,
   "metadata": {},
   "outputs": [],
   "source": [
    "import pandas as pd\n",
    "import numpy as np"
   ]
  },
  {
   "cell_type": "code",
   "execution_count": 4,
   "metadata": {},
   "outputs": [
    {
     "name": "stdout",
     "output_type": "stream",
     "text": [
      "    Левая  Правая\n",
      "0    32.5    32.5\n",
      "1    32.8    31.9\n",
      "2    31.2    31.6\n",
      "3    31.5    32.0\n",
      "4    30.1    30.3\n",
      "..    ...     ...\n",
      "56   33.4    33.7\n",
      "57   33.7    33.3\n",
      "58   34.7    34.6\n",
      "59   33.8    34.5\n",
      "60   33.8    33.7\n",
      "\n",
      "[61 rows x 2 columns]\n"
     ]
    }
   ],
   "source": [
    "data = pd.read_excel(\"D:\\__Study__\\CluseterTerm\\StatLab\\Сдать графики\\\\ans_1.xlsx\")\n",
    "data = data[[\"Левая\",\"Правая\"]]\n",
    "print(data)\n",
    "left_val = data[['Левая']].to_numpy()\n",
    "right_val = data[['Правая']].to_numpy()"
   ]
  },
  {
   "cell_type": "code",
   "execution_count": 5,
   "metadata": {},
   "outputs": [
    {
     "name": "stdout",
     "output_type": "stream",
     "text": [
      "Коэффициент ранговой корреляции Спирмена: 0.9025685360727482\n",
      "P-значение (значимость): 2.915777103485974e-23\n",
      "Отвергаем нулевую гипотезу: есть статистически значимая монотонная связь между признаками\n",
      "\n",
      "Коэффициент корреляции Пирсона: 0.9162427600093843\n",
      "P-значение (значимость) для корреляции Пирсона: 4.09979765309897e-25\n"
     ]
    }
   ],
   "source": [
    "from scipy.stats import spearmanr, pearsonr\n",
    "# Вычислить коэффициент ранговой корреляции Спирмена и p-значение\n",
    "spearman_coefficient, spearman_p_value = spearmanr(data['Левая'], data['Правая'])\n",
    "\n",
    "# Вывести результаты\n",
    "print(\"Коэффициент ранговой корреляции Спирмена:\", spearman_coefficient)\n",
    "print(\"P-значение (значимость):\", spearman_p_value)\n",
    "\n",
    "# Проверить уровень значимости (обычно 0.05)\n",
    "alpha = 0.05\n",
    "if spearman_p_value < alpha:\n",
    "    print(\"Отвергаем нулевую гипотезу: есть статистически значимая монотонная связь между признаками\")\n",
    "else:\n",
    "    print(\"Не можем отвергнуть нулевую гипотезу: нет статистически значимой монотонной связи между признаками\")\n",
    "\n",
    "# Сравнить с коэффициентом корреляции Пирсона\n",
    "pearson_coefficient, pearson_p_value = pearsonr(data['Левая'], data['Правая'])\n",
    "\n",
    "print(\"\\nКоэффициент корреляции Пирсона:\", pearson_coefficient)\n",
    "print(\"P-значение (значимость) для корреляции Пирсона:\", pearson_p_value)"
   ]
  }
 ],
 "metadata": {
  "kernelspec": {
   "display_name": "myvenv",
   "language": "python",
   "name": "python3"
  },
  "language_info": {
   "codemirror_mode": {
    "name": "ipython",
    "version": 3
   },
   "file_extension": ".py",
   "mimetype": "text/x-python",
   "name": "python",
   "nbconvert_exporter": "python",
   "pygments_lexer": "ipython3",
   "version": "3.11.6"
  }
 },
 "nbformat": 4,
 "nbformat_minor": 2
}
