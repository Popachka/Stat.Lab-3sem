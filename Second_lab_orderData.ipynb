{
 "cells": [
  {
   "cell_type": "code",
   "execution_count": 1,
   "metadata": {},
   "outputs": [],
   "source": [
    "import pandas as pd\n",
    "import numpy as np\n",
    "from order_data import interval_data_l, interval_data_r, distribution_l, distribution_r, interval_l, interval_r"
   ]
  },
  {
   "cell_type": "code",
   "execution_count": 2,
   "metadata": {},
   "outputs": [
    {
     "name": "stdout",
     "output_type": "stream",
     "text": [
      "{0: 1, 1: 1, 2: 7, 3: 11, 4: 10, 5: 18, 6: 13}\n",
      "[26.97, 28.56, 29.61, 30.67, 31.73, 32.79, 33.84, 35.43]\n"
     ]
    }
   ],
   "source": [
    "\n",
    "print(distribution_l)\n",
    "print(interval_l)"
   ]
  },
  {
   "cell_type": "code",
   "execution_count": 3,
   "metadata": {},
   "outputs": [
    {
     "name": "stdout",
     "output_type": "stream",
     "text": [
      "Общая выборочная средняя для sample_means_l: 31.928032786885247\n",
      "Общая выборочная средняя для sample_means_r: 31.961311475409833\n"
     ]
    }
   ],
   "source": [
    "\n",
    "\n",
    "mean_l = sum([distribution_l[i] * interval_l[i] for i in range(7)]) / sum(distribution_l.values())\n",
    "mean_r = sum([distribution_r[i] * interval_r[i] for i in range(7)]) / sum(distribution_r.values())\n",
    "print(\"Общая выборочная средняя для sample_means_l:\", mean_l )\n",
    "print(\"Общая выборочная средняя для sample_means_r:\", mean_r)"
   ]
  },
  {
   "cell_type": "code",
   "execution_count": 29,
   "metadata": {},
   "outputs": [
    {
     "name": "stdout",
     "output_type": "stream",
     "text": [
      "Выборочная дисперсия для sample_means_l: 2.495684654662727\n",
      "Выборочная дисперсия для sample_means_r: 1.9990088480321762\n"
     ]
    }
   ],
   "source": [
    "# Вычисление выборочной дисперсии для sample_means_l\n",
    "variance_l = sum([(interval_l[i] - mean_l) ** 2 * distribution_l[i] for i in range(7)]) / sum(distribution_l.values())\n",
    "\n",
    "# Вычисление выборочной дисперсии для sample_means_r\n",
    "variance_r = sum([(interval_r[i] - mean_r) ** 2 * distribution_r[i] for i in range(7)]) / sum(distribution_r.values())\n",
    "\n",
    "print(\"Выборочная дисперсия для sample_means_l:\", variance_l)\n",
    "print(\"Выборочная дисперсия для sample_means_r:\", variance_r)\n"
   ]
  },
  {
   "cell_type": "code",
   "execution_count": 46,
   "metadata": {},
   "outputs": [
    {
     "name": "stdout",
     "output_type": "stream",
     "text": [
      "Мода для левого: 33.43615384615385\n",
      "Мода для правого: 33.49\n"
     ]
    }
   ],
   "source": [
    "# Нахождение моды для sample_means_l\n",
    "mode_l = max(distribution_l, key=distribution_l.get)\n",
    "\n",
    "# Нахождение моды для sample_means_r\n",
    "mode_r = max(distribution_r, key=distribution_r.get)\n",
    "\n",
    "# Найти модальный интервал и его индекс с наибольшей частотой\n",
    "modal_interval = interval_l[mode_l]\n",
    "\n",
    "# Найти частоты интервалов до и после модального интервала\n",
    "hi = interval_l[mode_l+1] - modal_interval\n",
    "# Вычислить моду по формуле\n",
    "mode_l = xi0 + hi * (distribution_l[mode_l] - distribution_l[mode_l-1]) / ((distribution_l[mode_l] - distribution_l[mode_l-1]) + (distribution_l[mode_l] - distribution_l[mode_l+1]))\n",
    "\n",
    "\n",
    "\n",
    "# Найти модальный интервал и его индекс с наибольшей частотой\n",
    "modal_interval = interval_r[mode_r]\n",
    "\n",
    "# Найти частоты интервалов до и после модального интервала\n",
    "hi = interval_r[mode_r+1] - modal_interval\n",
    "# Вычислить моду по формуле\n",
    "mode_r = xi0 + hi * (distribution_r[mode_r] - distribution_r[mode_r-1]) / ((distribution_r[mode_r] - distribution_r[mode_r-1]) + (distribution_r[mode_r] - distribution_r[mode_r+1]))\n",
    "\n",
    "\n",
    "print(\"Мода для левого:\", mode_l)\n",
    "print(\"Мода для правого:\", mode_r)\n"
   ]
  },
  {
   "cell_type": "code",
   "execution_count": null,
   "metadata": {},
   "outputs": [
    {
     "name": "stdout",
     "output_type": "stream",
     "text": [
      "Общая медиана для всего набора данных левая и правая: [32.75, 32.5]\n"
     ]
    }
   ],
   "source": [
    "# Объединение всех значений в один плоский список\n",
    "all_values_r = [value for values in interval_data_r.values() for value in values]\n",
    "all_values_l = [value for values in interval_data_l.values() for value in values]\n",
    "# Вычисление медианы для всего набора данных\n",
    "overall_median = [np.median(all_values_l),np.median(all_values_r)]\n",
    "\n",
    "print(\"Общая медиана для всего набора данных левая и правая:\", overall_median)"
   ]
  },
  {
   "cell_type": "code",
   "execution_count": 3,
   "metadata": {},
   "outputs": [
    {
     "name": "stdout",
     "output_type": "stream",
     "text": [
      "{0: 1, 1: 1, 2: 7, 3: 11, 4: 10, 5: 18, 6: 13}\n",
      "5\n",
      "Выборочная средняя: 4.19672131147541\n",
      "Выборочная дисперсия: 2.1580220370868046\n",
      "Исправленная выборочная дисперсия: 2.1939890710382515\n",
      "Мода: 33.315\n",
      "Медиана: 32.83416666666667\n",
      "Выборочная средняя                    4.196721\n",
      "Выборочная дисперсия                  2.158022\n",
      "Исправленная выборочная дисперсия     2.193989\n",
      "Мода                                 33.315000\n",
      "Медиана                              32.834167\n",
      "dtype: float64\n"
     ]
    }
   ],
   "source": [
    "# Cгрупп данные\n",
    "# Вычисляем среднее значение для сгруппированных данных\n",
    "total_sum = sum(interval * frequency for interval, frequency in distribution_l.items())\n",
    "total_count = sum(distribution_l.values())\n",
    "mean = total_sum / total_count\n",
    "print(distribution_l)\n",
    "# Вычисляем выборочную дисперсию и исправленную выборочную дисперсию\n",
    "variance = sum(((interval - mean) ** 2) * frequency for interval, frequency in distribution_l.items()) / total_count\n",
    "sample_variance = sum(((interval - mean) ** 2) * frequency for interval, frequency in distribution_l.items()) / (total_count - 1)\n",
    "# Среднюю и дисперсию пересчитать.\n",
    "\n",
    "\n",
    "# Находим моду и медиану\n",
    "mode_interval = max(distribution_l, key=distribution_l.get)\n",
    "print(mode_interval)\n",
    "\n",
    "mode = (interval_l[mode_interval] + interval_l[mode_interval + 1]) / 2\n",
    "\n",
    "median_frequency = total_count / 2\n",
    "cumulative_frequency = 0\n",
    "median_interval = 0\n",
    "for interval, frequency in distribution_l.items():\n",
    "    cumulative_frequency += frequency\n",
    "    if cumulative_frequency >= median_frequency:\n",
    "        median_interval = interval\n",
    "        break\n",
    "lower_limit = interval_l[median_interval]\n",
    "upper_limit = interval_l[median_interval + 1]\n",
    "width = interval_l[1] - interval_l[0]\n",
    "median = lower_limit + ((median_frequency - (cumulative_frequency - frequency)) / frequency) * width\n",
    "\n",
    "# Выводим результаты\n",
    "\n",
    "print(f\"Выборочная средняя: {mean}\")\n",
    "print(f\"Выборочная дисперсия: {variance}\")\n",
    "print(f\"Исправленная выборочная дисперсия: {sample_variance}\")\n",
    "print(f\"Мода: {mode}\")\n",
    "\n",
    "\n",
    "print(f\"Медиана: {median}\")\n",
    "\n",
    "results = {\n",
    "    \"Выборочная средняя\": mean,\n",
    "    \"Выборочная дисперсия\": variance,\n",
    "    \"Исправленная выборочная дисперсия\": sample_variance,\n",
    "    \"Мода\": mode,\n",
    "    \"Медиана\": median\n",
    "}\n",
    "# Добавляем результаты в DataFrame и называем таблицу \"Левая\"\n",
    "df_left = pd.Series(results)\n",
    "\n",
    "# Выводим DataFrame\n",
    "print(df_left)"
   ]
  },
  {
   "cell_type": "code",
   "execution_count": null,
   "metadata": {},
   "outputs": [
    {
     "name": "stdout",
     "output_type": "stream",
     "text": [
      "Выборочная средняя: 4.593220338983051\n",
      "Выборочная дисперсия: 1.6989370870439529\n",
      "Исправленная выборочная дисперсия: 1.72822910578609\n",
      "Мода: 33.315\n",
      "Медиана: 33.30675\n",
      "Выборочная средняя                    4.593220\n",
      "Выборочная дисперсия                  1.698937\n",
      "Исправленная выборочная дисперсия     1.728229\n",
      "Мода                                 33.315000\n",
      "Медиана                              33.306750\n",
      "dtype: float64\n"
     ]
    }
   ],
   "source": [
    "# Вычисляем среднее значение для сгруппированных данных\n",
    "total_sum = sum(interval * frequency for interval, frequency in distribution_r.items())\n",
    "total_count = sum(distribution_r.values())\n",
    "mean = total_sum / total_count\n",
    "\n",
    "# Вычисляем выборочную дисперсию и исправленную выборочную дисперсию\n",
    "variance = sum(((interval - mean) ** 2) * frequency for interval, frequency in distribution_r.items()) / total_count\n",
    "sample_variance = sum(((interval - mean) ** 2) * frequency for interval, frequency in distribution_r.items()) / (total_count - 1)\n",
    "\n",
    "# Находим моду и медиану\n",
    "mode_interval = max(distribution_r, key=distribution_r.get)\n",
    "mode = (interval_l[mode_interval] + interval_l[mode_interval + 1]) / 2\n",
    "median_frequency = total_count / 2\n",
    "cumulative_frequency = 0\n",
    "median_interval = 0\n",
    "for interval, frequency in distribution_r.items():\n",
    "    cumulative_frequency += frequency\n",
    "    if cumulative_frequency >= median_frequency:\n",
    "        median_interval = interval\n",
    "        break\n",
    "lower_limit = interval_l[median_interval]\n",
    "upper_limit = interval_l[median_interval + 1]\n",
    "width = interval_l[1] - interval_l[0]\n",
    "median = lower_limit + ((median_frequency - (cumulative_frequency - frequency)) / frequency) * width\n",
    "\n",
    "# Выводим результаты\n",
    "print(f\"Выборочная средняя: {mean}\")\n",
    "print(f\"Выборочная дисперсия: {variance}\")\n",
    "print(f\"Исправленная выборочная дисперсия: {sample_variance}\")\n",
    "print(f\"Мода: {mode}\")\n",
    "print(f\"Медиана: {median}\")\n",
    "\n",
    "results = {\n",
    "    \"Выборочная средняя\": mean,\n",
    "    \"Выборочная дисперсия\": variance,\n",
    "    \"Исправленная выборочная дисперсия\": sample_variance,\n",
    "    \"Мода\": mode,\n",
    "    \"Медиана\": median\n",
    "}\n",
    "# Добавляем результаты в DataFrame и называем таблицу \"Левая\"\n",
    "df_right = pd.Series(results)\n",
    "\n",
    "# Выводим DataFrame\n",
    "print(df_right)"
   ]
  },
  {
   "cell_type": "code",
   "execution_count": null,
   "metadata": {},
   "outputs": [
    {
     "data": {
      "text/plain": [
       "Выборочная средняя                    4.593220\n",
       "Выборочная дисперсия                  1.698937\n",
       "Исправленная выборочная дисперсия     1.728229\n",
       "Мода                                 33.315000\n",
       "Медиана                              33.306750\n",
       "Name: Right, dtype: float64"
      ]
     },
     "execution_count": 59,
     "metadata": {},
     "output_type": "execute_result"
    }
   ],
   "source": [
    "df_right.name = 'Right'\n",
    "df_right"
   ]
  },
  {
   "cell_type": "code",
   "execution_count": null,
   "metadata": {},
   "outputs": [
    {
     "data": {
      "text/plain": [
       "Выборочная средняя                    4.196721\n",
       "Выборочная дисперсия                  2.158022\n",
       "Исправленная выборочная дисперсия     2.193989\n",
       "Мода                                 33.315000\n",
       "Медиана                              32.834167\n",
       "Name: Left, dtype: float64"
      ]
     },
     "execution_count": 60,
     "metadata": {},
     "output_type": "execute_result"
    }
   ],
   "source": [
    "df_left.name = 'Left'\n",
    "df_left"
   ]
  },
  {
   "cell_type": "code",
   "execution_count": null,
   "metadata": {},
   "outputs": [
    {
     "name": "stdout",
     "output_type": "stream",
     "text": [
      "Index(['Выборочная средняя', 'Выборочная дисперсия',\n",
      "       'Исправленная выборочная дисперсия', 'Мода', 'Медиана'],\n",
      "      dtype='object')\n"
     ]
    }
   ],
   "source": [
    "result_df = np.around(pd.concat([df_left,df_right], axis=1),3)\n",
    "print(result_df.index)\n",
    "# result_df.to_excel('Group_Statistic.xlsx')"
   ]
  }
 ],
 "metadata": {
  "kernelspec": {
   "display_name": "learn-venv",
   "language": "python",
   "name": "python3"
  },
  "language_info": {
   "codemirror_mode": {
    "name": "ipython",
    "version": 3
   },
   "file_extension": ".py",
   "mimetype": "text/x-python",
   "name": "python",
   "nbconvert_exporter": "python",
   "pygments_lexer": "ipython3",
   "version": "3.11.6"
  }
 },
 "nbformat": 4,
 "nbformat_minor": 2
}
