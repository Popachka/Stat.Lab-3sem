{
 "cells": [
  {
   "cell_type": "code",
   "execution_count": 51,
   "metadata": {},
   "outputs": [],
   "source": [
    "import pandas as pd\n",
    "import numpy as np\n",
    "from order_data import interval_data_l, interval_data_r, distribution_l, distribution_r, interval_l, interval_r"
   ]
  },
  {
   "cell_type": "code",
   "execution_count": 52,
   "metadata": {},
   "outputs": [],
   "source": [
    "data = pd.read_excel(\"D:\\__Study__\\CluseterTerm\\StatLab\\Сдать графики\\\\ans_1.xlsx\")\n",
    "data = data[[\"Левая\",\"Правая\"]]\n",
    "# print(data)\n",
    "# print(interval_data_r)\n",
    "# print(interval_data_l)"
   ]
  },
  {
   "cell_type": "code",
   "execution_count": 53,
   "metadata": {},
   "outputs": [
    {
     "name": "stdout",
     "output_type": "stream",
     "text": [
      "Общая выборочная средняя для sample_means_l: 31.218664192949905\n",
      "Общая выборочная средняя для sample_means_r: 30.74059523809524\n"
     ]
    }
   ],
   "source": [
    "# Вычисление выборочных средних для каждого интервала\n",
    "sample_means_l = [np.mean(values) for values in interval_data_l.values()]\n",
    "sample_means_r = [np.mean(values) for values in interval_data_r.values()]\n",
    "\n",
    "# Вычисление общей выборочной средней для каждой группы\n",
    "total_sample_mean_l = np.mean(sample_means_l)\n",
    "total_sample_mean_r = np.mean(sample_means_r)\n",
    "\n",
    "print(\"Общая выборочная средняя для sample_means_l:\", total_sample_mean_l)\n",
    "print(\"Общая выборочная средняя для sample_means_r:\", total_sample_mean_r)"
   ]
  },
  {
   "cell_type": "code",
   "execution_count": 54,
   "metadata": {},
   "outputs": [
    {
     "name": "stdout",
     "output_type": "stream",
     "text": [
      "Выборочная дисперсия для sample_means_l: 4.703077331720898\n",
      "Выборочная дисперсия для sample_means_r: 4.514387840136055\n",
      "Исправленная выборочная дисперсия для sample_means_l: 5.486923553674381\n",
      "Исправленная выборочная дисперсия для sample_means_r: 5.266785813492064\n"
     ]
    }
   ],
   "source": [
    "\n",
    "# Вычисление выборочной дисперсии (несмещенной дисперсии) для каждой группы\n",
    "sample_variance_l = np.var(sample_means_l, ddof=1)\n",
    "sample_variance_r = np.var(sample_means_r, ddof=1)\n",
    "sample_variance_l_ = np.var(sample_means_l)\n",
    "sample_variance_r_ = np.var(sample_means_r)\n",
    "print(\"Выборочная дисперсия для sample_means_l:\", sample_variance_l_)\n",
    "print(\"Выборочная дисперсия для sample_means_r:\", sample_variance_r_)\n",
    "print(\"Исправленная выборочная дисперсия для sample_means_l:\", sample_variance_l)\n",
    "print(\"Исправленная выборочная дисперсия для sample_means_r:\", sample_variance_r)"
   ]
  },
  {
   "cell_type": "code",
   "execution_count": 55,
   "metadata": {},
   "outputs": [
    {
     "name": "stdout",
     "output_type": "stream",
     "text": [
      "Мода для левого и правого [32.8, 32.5]\n"
     ]
    }
   ],
   "source": [
    "# Вычисление моды (наиболее часто встречающееся значение)\n",
    "mode_interval_l = max(interval_data_l, key=lambda k: len(interval_data_l[k]))\n",
    "mode_interval_r = max(interval_data_r, key=lambda k: len(interval_data_r[k]))\n",
    "mode = [interval_data_l[mode_interval_l][0], interval_data_r[mode_interval_r][0]]\n",
    "print(\"Мода для левого и правого\", mode)\n"
   ]
  },
  {
   "cell_type": "code",
   "execution_count": 56,
   "metadata": {},
   "outputs": [
    {
     "name": "stdout",
     "output_type": "stream",
     "text": [
      "Общая медиана для всего набора данных левая и правая: [32.75, 32.5]\n"
     ]
    }
   ],
   "source": [
    "# Объединение всех значений в один плоский список\n",
    "all_values_r = [value for values in interval_data_r.values() for value in values]\n",
    "all_values_l = [value for values in interval_data_l.values() for value in values]\n",
    "# Вычисление медианы для всего набора данных\n",
    "overall_median = [np.median(all_values_l),np.median(all_values_r)]\n",
    "\n",
    "print(\"Общая медиана для всего набора данных левая и правая:\", overall_median)"
   ]
  },
  {
   "cell_type": "code",
   "execution_count": 57,
   "metadata": {},
   "outputs": [
    {
     "name": "stdout",
     "output_type": "stream",
     "text": [
      "Выборочная средняя: 4.19672131147541\n",
      "Выборочная дисперсия: 2.1580220370868046\n",
      "Исправленная выборочная дисперсия: 2.1939890710382515\n",
      "Мода: 33.315\n",
      "Медиана: 32.83416666666667\n",
      "Выборочная средняя                    4.196721\n",
      "Выборочная дисперсия                  2.158022\n",
      "Исправленная выборочная дисперсия     2.193989\n",
      "Мода                                 33.315000\n",
      "Медиана                              32.834167\n",
      "dtype: float64\n"
     ]
    }
   ],
   "source": [
    "# Cгрупп данные\n",
    "# Вычисляем среднее значение для сгруппированных данных\n",
    "total_sum = sum(interval * frequency for interval, frequency in distribution_l.items())\n",
    "total_count = sum(distribution_l.values())\n",
    "mean = total_sum / total_count\n",
    "\n",
    "# Вычисляем выборочную дисперсию и исправленную выборочную дисперсию\n",
    "variance = sum(((interval - mean) ** 2) * frequency for interval, frequency in distribution_l.items()) / total_count\n",
    "sample_variance = sum(((interval - mean) ** 2) * frequency for interval, frequency in distribution_l.items()) / (total_count - 1)\n",
    "\n",
    "# Находим моду и медиану\n",
    "mode_interval = max(distribution_l, key=distribution_l.get)\n",
    "mode = (interval_l[mode_interval] + interval_l[mode_interval + 1]) / 2\n",
    "median_frequency = total_count / 2\n",
    "cumulative_frequency = 0\n",
    "median_interval = 0\n",
    "for interval, frequency in distribution_l.items():\n",
    "    cumulative_frequency += frequency\n",
    "    if cumulative_frequency >= median_frequency:\n",
    "        median_interval = interval\n",
    "        break\n",
    "lower_limit = interval_l[median_interval]\n",
    "upper_limit = interval_l[median_interval + 1]\n",
    "width = interval_l[1] - interval_l[0]\n",
    "median = lower_limit + ((median_frequency - (cumulative_frequency - frequency)) / frequency) * width\n",
    "\n",
    "# Выводим результаты\n",
    "print(f\"Выборочная средняя: {mean}\")\n",
    "print(f\"Выборочная дисперсия: {variance}\")\n",
    "print(f\"Исправленная выборочная дисперсия: {sample_variance}\")\n",
    "print(f\"Мода: {mode}\")\n",
    "print(f\"Медиана: {median}\")\n",
    "\n",
    "results = {\n",
    "    \"Выборочная средняя\": mean,\n",
    "    \"Выборочная дисперсия\": variance,\n",
    "    \"Исправленная выборочная дисперсия\": sample_variance,\n",
    "    \"Мода\": mode,\n",
    "    \"Медиана\": median\n",
    "}\n",
    "# Добавляем результаты в DataFrame и называем таблицу \"Левая\"\n",
    "df_left = pd.Series(results)\n",
    "\n",
    "# Выводим DataFrame\n",
    "print(df_left)"
   ]
  },
  {
   "cell_type": "code",
   "execution_count": 58,
   "metadata": {},
   "outputs": [
    {
     "name": "stdout",
     "output_type": "stream",
     "text": [
      "Выборочная средняя: 4.593220338983051\n",
      "Выборочная дисперсия: 1.6989370870439529\n",
      "Исправленная выборочная дисперсия: 1.72822910578609\n",
      "Мода: 33.315\n",
      "Медиана: 33.30675\n",
      "Выборочная средняя                    4.593220\n",
      "Выборочная дисперсия                  1.698937\n",
      "Исправленная выборочная дисперсия     1.728229\n",
      "Мода                                 33.315000\n",
      "Медиана                              33.306750\n",
      "dtype: float64\n"
     ]
    }
   ],
   "source": [
    "# Вычисляем среднее значение для сгруппированных данных\n",
    "total_sum = sum(interval * frequency for interval, frequency in distribution_r.items())\n",
    "total_count = sum(distribution_r.values())\n",
    "mean = total_sum / total_count\n",
    "\n",
    "# Вычисляем выборочную дисперсию и исправленную выборочную дисперсию\n",
    "variance = sum(((interval - mean) ** 2) * frequency for interval, frequency in distribution_r.items()) / total_count\n",
    "sample_variance = sum(((interval - mean) ** 2) * frequency for interval, frequency in distribution_r.items()) / (total_count - 1)\n",
    "\n",
    "# Находим моду и медиану\n",
    "mode_interval = max(distribution_r, key=distribution_r.get)\n",
    "mode = (interval_l[mode_interval] + interval_l[mode_interval + 1]) / 2\n",
    "median_frequency = total_count / 2\n",
    "cumulative_frequency = 0\n",
    "median_interval = 0\n",
    "for interval, frequency in distribution_r.items():\n",
    "    cumulative_frequency += frequency\n",
    "    if cumulative_frequency >= median_frequency:\n",
    "        median_interval = interval\n",
    "        break\n",
    "lower_limit = interval_l[median_interval]\n",
    "upper_limit = interval_l[median_interval + 1]\n",
    "width = interval_l[1] - interval_l[0]\n",
    "median = lower_limit + ((median_frequency - (cumulative_frequency - frequency)) / frequency) * width\n",
    "\n",
    "# Выводим результаты\n",
    "print(f\"Выборочная средняя: {mean}\")\n",
    "print(f\"Выборочная дисперсия: {variance}\")\n",
    "print(f\"Исправленная выборочная дисперсия: {sample_variance}\")\n",
    "print(f\"Мода: {mode}\")\n",
    "print(f\"Медиана: {median}\")\n",
    "\n",
    "results = {\n",
    "    \"Выборочная средняя\": mean,\n",
    "    \"Выборочная дисперсия\": variance,\n",
    "    \"Исправленная выборочная дисперсия\": sample_variance,\n",
    "    \"Мода\": mode,\n",
    "    \"Медиана\": median\n",
    "}\n",
    "# Добавляем результаты в DataFrame и называем таблицу \"Левая\"\n",
    "df_right = pd.Series(results)\n",
    "\n",
    "# Выводим DataFrame\n",
    "print(df_right)"
   ]
  },
  {
   "cell_type": "code",
   "execution_count": 59,
   "metadata": {},
   "outputs": [
    {
     "data": {
      "text/plain": [
       "Выборочная средняя                    4.593220\n",
       "Выборочная дисперсия                  1.698937\n",
       "Исправленная выборочная дисперсия     1.728229\n",
       "Мода                                 33.315000\n",
       "Медиана                              33.306750\n",
       "Name: Right, dtype: float64"
      ]
     },
     "execution_count": 59,
     "metadata": {},
     "output_type": "execute_result"
    }
   ],
   "source": [
    "df_right.name = 'Right'\n",
    "df_right"
   ]
  },
  {
   "cell_type": "code",
   "execution_count": 60,
   "metadata": {},
   "outputs": [
    {
     "data": {
      "text/plain": [
       "Выборочная средняя                    4.196721\n",
       "Выборочная дисперсия                  2.158022\n",
       "Исправленная выборочная дисперсия     2.193989\n",
       "Мода                                 33.315000\n",
       "Медиана                              32.834167\n",
       "Name: Left, dtype: float64"
      ]
     },
     "execution_count": 60,
     "metadata": {},
     "output_type": "execute_result"
    }
   ],
   "source": [
    "df_left.name = 'Left'\n",
    "df_left"
   ]
  },
  {
   "cell_type": "code",
   "execution_count": 72,
   "metadata": {},
   "outputs": [
    {
     "name": "stdout",
     "output_type": "stream",
     "text": [
      "Index(['Выборочная средняя', 'Выборочная дисперсия',\n",
      "       'Исправленная выборочная дисперсия', 'Мода', 'Медиана'],\n",
      "      dtype='object')\n"
     ]
    }
   ],
   "source": [
    "result_df = np.around(pd.concat([df_left,df_right], axis=1),3)\n",
    "print(result_df.index)\n",
    "# result_df.to_excel('Group_Statistic.xlsx')"
   ]
  }
 ],
 "metadata": {
  "kernelspec": {
   "display_name": "learn-venv",
   "language": "python",
   "name": "python3"
  },
  "language_info": {
   "codemirror_mode": {
    "name": "ipython",
    "version": 3
   },
   "file_extension": ".py",
   "mimetype": "text/x-python",
   "name": "python",
   "nbconvert_exporter": "python",
   "pygments_lexer": "ipython3",
   "version": "3.11.6"
  }
 },
 "nbformat": 4,
 "nbformat_minor": 2
}
