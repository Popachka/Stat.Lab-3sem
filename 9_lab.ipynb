{
 "cells": [
  {
   "cell_type": "code",
   "execution_count": 5,
   "metadata": {},
   "outputs": [],
   "source": [
    "import pandas as pd\n",
    "import numpy as np"
   ]
  },
  {
   "cell_type": "code",
   "execution_count": 6,
   "metadata": {},
   "outputs": [
    {
     "name": "stdout",
     "output_type": "stream",
     "text": [
      "    Левая  Правая\n",
      "0    32.5    32.5\n",
      "1    32.8    31.9\n",
      "2    31.2    31.6\n",
      "3    31.5    32.0\n",
      "4    30.1    30.3\n",
      "..    ...     ...\n",
      "56   33.4    33.7\n",
      "57   33.7    33.3\n",
      "58   34.7    34.6\n",
      "59   33.8    34.5\n",
      "60   33.8    33.7\n",
      "\n",
      "[61 rows x 2 columns]\n"
     ]
    }
   ],
   "source": [
    "data = pd.read_excel(\"D:\\__Study__\\CluseterTerm\\StatLab\\Сдать графики\\\\ans_1.xlsx\")\n",
    "data = data[[\"Левая\",\"Правая\"]]\n",
    "print(data)\n",
    "# print(interval_data_r)\n",
    "# print(interval_data_l)\n",
    "left_val = data[['Левая']].to_numpy()\n",
    "right_val = data[['Правая']].to_numpy()"
   ]
  },
  {
   "cell_type": "code",
   "execution_count": 7,
   "metadata": {},
   "outputs": [],
   "source": [
    "# Вычислить средние значения\n",
    "mean_left = np.mean(left_val)\n",
    "mean_right = np.mean(right_val)"
   ]
  },
  {
   "cell_type": "code",
   "execution_count": 9,
   "metadata": {},
   "outputs": [
    {
     "name": "stdout",
     "output_type": "stream",
     "text": [
      "Выборочный коэффициент корреляции:  0.92\n"
     ]
    }
   ],
   "source": [
    "# Вычислить выборочный коэффициент корреляции\n",
    "numerator = np.sum((left_val - mean_left) * (right_val - mean_right))\n",
    "denominator = np.sqrt(np.sum((left_val - mean_left)**2) * np.sum((right_val - mean_right)**2))\n",
    "correlation_coefficient = np.around(numerator / denominator,2)\n",
    "\n",
    "print(\"Выборочный коэффициент корреляции: \", correlation_coefficient)"
   ]
  },
  {
   "cell_type": "markdown",
   "metadata": {},
   "source": [
    "Чем ближе коэф. корелляции по модулю к единице, тем они ближе расположены к прямой\n",
    "По шкале Чеддока у нас ОЧЕНЬ СИЛЬНАЯ КОР. ЗАВИСИМОСТЬ"
   ]
  },
  {
   "cell_type": "code",
   "execution_count": 12,
   "metadata": {},
   "outputs": [
    {
     "name": "stdout",
     "output_type": "stream",
     "text": [
      "Выборочный коэффициент корреляции:  0.92\n"
     ]
    }
   ],
   "source": [
    "# По встроенным функциям\n",
    "# Вычислить выборочный коэффициент корреляции между столбцами \"Левая\" и \"Правая\"\n",
    "correlation_coefficient = data['Левая'].corr(data['Правая'])\n",
    "\n",
    "print(\"Выборочный коэффициент корреляции: \", np.around(correlation_coefficient,2))"
   ]
  },
  {
   "cell_type": "markdown",
   "metadata": {},
   "source": [
    "Вычислив коэф. корелляции по формуле Пирсона самостоятельно и по встроенным функциям\n",
    "Можно увидеть, что они равны."
   ]
  },
  {
   "cell_type": "markdown",
   "metadata": {},
   "source": [
    "H0 - Леввые температурные данные независимы от Правых\n",
    "H1 - Есть связь между данными"
   ]
  },
  {
   "cell_type": "code",
   "execution_count": 13,
   "metadata": {},
   "outputs": [
    {
     "name": "stdout",
     "output_type": "stream",
     "text": [
      "Хи-квадрат статистика: 1298.1138888888888\n",
      "P-значение: 0.01515874386336424\n",
      "Отвергаем нулевую гипотезу: есть статистически значимая связь между данными\n"
     ]
    }
   ],
   "source": [
    "from scipy.stats import chi2_contingency\n",
    "# Создать таблицу сопряженности\n",
    "contingency_table = pd.crosstab(data['Левая'], data['Правая'])\n",
    "\n",
    "# Провести тест хи-квадрат на независимость\n",
    "chi2, p_val, _, _ = chi2_contingency(contingency_table)\n",
    "\n",
    "# Вывести результаты теста\n",
    "print(\"Хи-квадрат статистика:\", chi2)\n",
    "print(\"P-значение:\", p_val)\n",
    "\n",
    "# Проверить уровень значимости (обычно 0.05)\n",
    "alpha = 0.05\n",
    "if p_val < alpha:\n",
    "    print(\"Отвергаем нулевую гипотезу: есть статистически значимая связь между данными\")\n",
    "else:\n",
    "    print(\"Не можем отвергнуть нулевую гипотезу: нет статистически значимой связи между данными\")"
   ]
  },
  {
   "cell_type": "markdown",
   "metadata": {},
   "source": [
    "Нулевая гипотеза (H0): Нет линейной корреляции между признаками (коэффициент корреляции равен 0).\n",
    "Альтернативная гипотеза (H1): Существует линейная корреляция между признаками (коэффициент корреляции не равен 0)."
   ]
  },
  {
   "cell_type": "code",
   "execution_count": 14,
   "metadata": {},
   "outputs": [
    {
     "name": "stdout",
     "output_type": "stream",
     "text": [
      "Коэффициент корреляции Пирсона: 0.9162427600093843\n",
      "P-значение: 4.09979765309897e-25\n",
      "Отвергаем нулевую гипотезу: есть линейная корреляция между признаками\n"
     ]
    }
   ],
   "source": [
    "from scipy.stats import pearsonr\n",
    "\n",
    "# Вычислить коэффициент корреляции и p-значение\n",
    "correlation_coefficient, p_value = pearsonr(data['Левая'], data['Правая'])\n",
    "\n",
    "# Вывести результаты\n",
    "print(\"Коэффициент корреляции Пирсона:\", correlation_coefficient)\n",
    "print(\"P-значение:\", p_value)\n",
    "\n",
    "# Проверить уровень значимости (обычно 0.05)\n",
    "alpha = 0.05\n",
    "if p_value < alpha:\n",
    "    print(\"Отвергаем нулевую гипотезу: есть линейная корреляция между признаками\")\n",
    "else:\n",
    "    print(\"Не можем отвергнуть нулевую гипотезу: нет линейной корреляции между признаками\")"
   ]
  }
 ],
 "metadata": {
  "kernelspec": {
   "display_name": "myvenv",
   "language": "python",
   "name": "python3"
  },
  "language_info": {
   "codemirror_mode": {
    "name": "ipython",
    "version": 3
   },
   "file_extension": ".py",
   "mimetype": "text/x-python",
   "name": "python",
   "nbconvert_exporter": "python",
   "pygments_lexer": "ipython3",
   "version": "3.11.6"
  }
 },
 "nbformat": 4,
 "nbformat_minor": 2
}
