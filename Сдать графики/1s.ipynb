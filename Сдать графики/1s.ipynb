{
 "cells": [
  {
   "cell_type": "code",
   "execution_count": 1,
   "metadata": {},
   "outputs": [],
   "source": [
    "import pandas as pd\n",
    "import numpy as np\n",
    "import math\n",
    "import scipy.stats as stats\n",
    "import matplotlib.pyplot as plt"
   ]
  },
  {
   "cell_type": "markdown",
   "metadata": {},
   "source": [
    "Загружаем excel файл в Dataframe"
   ]
  },
  {
   "cell_type": "code",
   "execution_count": 2,
   "metadata": {},
   "outputs": [
    {
     "name": "stdout",
     "output_type": "stream",
     "text": [
      "1      32.5\n",
      "2      32.5\n",
      "3      31.9\n",
      "4      32.8\n",
      "5      31.6\n",
      "       ... \n",
      "118    34.7\n",
      "119    34.5\n",
      "120    33.8\n",
      "121    33.7\n",
      "122    33.8\n",
      "Name: ИК, Length: 122, dtype: float64\n"
     ]
    }
   ],
   "source": [
    "data = pd.read_excel(\"D:\\__Works__\\Лабы\\Stat.Lab-3sem\\Vyborka_Novaya.xlsx\")\n",
    "data = data[1:123]\n",
    "print(data['ИК'])"
   ]
  },
  {
   "cell_type": "code",
   "execution_count": 3,
   "metadata": {},
   "outputs": [],
   "source": [
    "left_table = data[data['МЖ'] == 'левая']    \n",
    "right_table = data[data['МЖ'] == 'правая']    \n",
    "right_table_val = right_table['ИК']\n",
    "left_table_val = left_table['ИК']\n",
    "# Сбрасываем индексы\n",
    "right_table_reset = right_table_val.reset_index(drop=True)\n",
    "left_table_reset = left_table_val.reset_index(drop=True)\n",
    "\n",
    "merged_table = pd.concat([right_table_reset, left_table_reset], axis=1)\n",
    "merged_table.columns = ['Правая', 'Левая']\n",
    "right_val = merged_table.iloc[:,0]\n",
    "left_val = merged_table.iloc[:,1]"
   ]
  },
  {
   "cell_type": "code",
   "execution_count": 4,
   "metadata": {},
   "outputs": [
    {
     "name": "stdout",
     "output_type": "stream",
     "text": [
      "Число интервалов (групп) по формуле Стерджерса: 7\n",
      "Правый: 27.0 35.1\n",
      "Левый: 27.5 34.9\n",
      "Шаг разбиения (длина интервала): 1.057142857142857 1.1571428571428573\n",
      "Половина шага разбиения: 0.5285714285714285 0.5785714285714286\n"
     ]
    }
   ],
   "source": [
    "# Замените n на количество наблюдений в вашей таблице\n",
    "n = len(merged_table.iloc[:,0])\n",
    "\n",
    "# Рассчитываем количество интервалов с использованием формулы Стерджерса\n",
    "k = 1 + 3.322 * math.log10(n)\n",
    "\n",
    "# Округляем значение k до ближайшего целого числа\n",
    "k = round(k)\n",
    "# Выводим количество интервалов\n",
    "print(\"Число интервалов (групп) по формуле Стерджерса:\", k)\n",
    "\n",
    "# Находим максимальное и минимальное значение в данных у правого\n",
    "max_value_r = max(right_val)\n",
    "min_value_r = min(right_val)\n",
    "print('Правый:', min_value_r, max_value_r)\n",
    "# Находим максимальное и минимальное значение в данных у левого\n",
    "max_value_l = max(left_val)\n",
    "min_value_l = min(left_val)\n",
    "print('Левый:', min_value_l, max_value_l)\n",
    "# Рассчитываем шаг разбиения (длину интервала) у левого\n",
    "h_l = (max_value_l - min_value_l) / k\n",
    "# Рассчитываем шаг разбиения (длину интервала) у правого\n",
    "h_r = (max_value_r - min_value_r) / k\n",
    "\n",
    "half_h_r = h_r / 2\n",
    "half_h_l = h_l / 2\n",
    "# Выводим шаг разбиения и полшага\n",
    "print(\"Шаг разбиения (длина интервала):\", h_l, h_r)\n",
    "print(\"Половина шага разбиения:\", half_h_l, half_h_r)"
   ]
  },
  {
   "cell_type": "code",
   "execution_count": 15,
   "metadata": {},
   "outputs": [
    {
     "name": "stdout",
     "output_type": "stream",
     "text": [
      "Границы интервалов левого: [26.97 28.56 29.61 30.67 31.73 32.79 33.84 35.43]\n",
      "Границы интервалов правого: [26.42 28.16 29.31 30.47 31.63 32.79 33.94 35.68]\n"
     ]
    }
   ],
   "source": [
    "# Создаем список для хранения границ интервалов\n",
    "interval_boundaries_l = [min_value_l]\n",
    "interval_boundaries_r = [min_value_r]\n",
    "# Добавляем остальные границы интервалов\n",
    "for i in range(k):\n",
    "    interval_boundaries_l.append(interval_boundaries_l[-1] + h_l)\n",
    "    interval_boundaries_r.append(interval_boundaries_r[-1] + h_r)\n",
    "interval_boundaries_l[-1] += half_h_l\n",
    "interval_boundaries_l[0] -= half_h_l\n",
    "interval_boundaries_r[-1] += half_h_r\n",
    "interval_boundaries_r[0] -= half_h_r\n",
    "# Границы интервалов\n",
    "print(\"Границы интервалов левого:\", np.around(interval_boundaries_l,2))\n",
    "print(\"Границы интервалов правого:\", np.around(interval_boundaries_r,2))\n"
   ]
  },
  {
   "cell_type": "code",
   "execution_count": 20,
   "metadata": {},
   "outputs": [
    {
     "name": "stdout",
     "output_type": "stream",
     "text": [
      "{0: 1, 1: 1, 2: 7, 3: 11, 4: 10, 5: 18, 6: 13}\n",
      "{0: 1, 1: 1, 2: 3, 3: 8, 4: 20, 5: 17, 6: 11}\n"
     ]
    }
   ],
   "source": [
    "# Создаем словарь для хранения данных в интервалах\n",
    "interval_data_l = {interval: [] for interval in range(k)}\n",
    "interval_data_r = {interval: [] for interval in range(k)}\n",
    "# Распределяем данные по интервалам\n",
    "for value in left_val:\n",
    "    for i in range(len(interval_boundaries_l) - 1):\n",
    "        if interval_boundaries_l[i] <= value < interval_boundaries_l[i+1]:\n",
    "            interval_data_l[i].append(value)\n",
    "            break\n",
    "for value in right_val:\n",
    "    for i in range(len(interval_boundaries_r) - 1):\n",
    "        if interval_boundaries_r[i] <= value < interval_boundaries_r[i+1]:\n",
    "            interval_data_r[i].append(value)\n",
    "            break\n",
    "for key, arr in interval_data_l.items():\n",
    "    interval_data_l[key] = len(arr)\n",
    "\n",
    "for key, arr in interval_data_r.items():\n",
    "    interval_data_r[key] = len(arr)\n",
    "print(interval_data_l)\n",
    "print(interval_data_r)"
   ]
  },
  {
   "cell_type": "code",
   "execution_count": 7,
   "metadata": {},
   "outputs": [],
   "source": [
    "# Создаем списки для построения гистограммы и полигона\n",
    "hist_values_l = []\n",
    "polygon_values_l = []\n",
    "hist_values_r = []\n",
    "polygon_values_r = []\n",
    "\n",
    "for interval in range(k):\n",
    "    interval_values_l = interval_data_l[interval]\n",
    "    interval_values_r = interval_data_r[interval]\n",
    "    hist_values_l.append(len(interval_values_l))\n",
    "    polygon_values_l.extend(interval_values_l)\n",
    "    hist_values_r.append(len(interval_values_r))\n",
    "    polygon_values_r.extend(interval_values_r)\n"
   ]
  },
  {
   "cell_type": "code",
   "execution_count": 8,
   "metadata": {},
   "outputs": [
    {
     "name": "stdout",
     "output_type": "stream",
     "text": [
      "{0: [27.5], 1: [29.4], 2: [30.1, 30.4, 30.3, 29.9, 30.4, 30.5, 30.6], 3: [31.2, 31.5, 31.0, 31.3, 31.7, 31.6, 31.4, 31.6, 31.4, 31.4, 31.7], 4: [32.5, 32.5, 32.1, 32.5, 32.0, 32.7, 32.7, 32.0, 32.0, 31.8], 5: [32.8, 33.0, 33.4, 33.6, 32.8, 33.0, 33.8, 33.0, 33.5, 32.8, 33.7, 33.5, 32.8, 33.3, 33.4, 33.7, 33.8, 33.8], 6: []}\n"
     ]
    }
   ],
   "source": [
    "#2 ЛАБА. Поиск средних.\n",
    "\n",
    "# несгруп. данные\n",
    "# print(merged_table)\n",
    "# сгруп. данные\n",
    "print(interval_data_l)"
   ]
  },
  {
   "cell_type": "code",
   "execution_count": 9,
   "metadata": {},
   "outputs": [
    {
     "name": "stdout",
     "output_type": "stream",
     "text": [
      "Выборочная средняя правого и левого: 32.5672131147541 32.519672131147544\n",
      "Выборочная дисперсия правого и левого: 2.3372856758935767 2.327153990862671\n",
      "Исправленная выборочная дисперсия правого и левого: 2.37624043715847 2.327153990862671\n",
      "Мода правого и левого: ModeResult(mode=32.5, count=5) ModeResult(mode=32.8, count=4)\n",
      "Медиана правого и левого: 32.6 32.8\n"
     ]
    }
   ],
   "source": [
    "# Выборочная средняя\n",
    "mean_r = np.mean(right_val)\n",
    "mean_l = np.mean(left_val)\n",
    "# Выборочная дисперсия\n",
    "variance_r = np.var(right_val)\n",
    "variance_l = np.var(left_val)\n",
    "# Исправленная выборочная дисперсия\n",
    "sample_variance_r = np.var(right_val, ddof=1)\n",
    "sample_variance_l = np.var(left_val, ddof=1)\n",
    "# Мода\n",
    "mode_r = stats.mode(right_val)\n",
    "mode_l = stats.mode(left_val)\n",
    "# Медиана\n",
    "median_r = np.median(right_val)\n",
    "median_l = np.median(left_val)\n",
    "\n",
    "# Вывод результатов\n",
    "print(\"Выборочная средняя правого и левого:\", mean_r, mean_l)\n",
    "print(\"Выборочная дисперсия правого и левого:\", variance_r, variance_l)\n",
    "print(\"Исправленная выборочная дисперсия правого и левого:\", sample_variance_r, variance_l)\n",
    "print(\"Мода правого и левого:\", mode_r, mode_l)\n",
    "print(\"Медиана правого и левого:\", median_r, median_l)"
   ]
  }
 ],
 "metadata": {
  "kernelspec": {
   "display_name": "myvenv",
   "language": "python",
   "name": "python3"
  },
  "language_info": {
   "codemirror_mode": {
    "name": "ipython",
    "version": 3
   },
   "file_extension": ".py",
   "mimetype": "text/x-python",
   "name": "python",
   "nbconvert_exporter": "python",
   "pygments_lexer": "ipython3",
   "version": "3.11.6"
  },
  "orig_nbformat": 4
 },
 "nbformat": 4,
 "nbformat_minor": 2
}
