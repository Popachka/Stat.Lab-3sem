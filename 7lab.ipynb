{
 "cells": [
  {
   "cell_type": "code",
   "execution_count": 1,
   "metadata": {},
   "outputs": [],
   "source": [
    "import pandas as pd\n",
    "import numpy as np\n",
    "from sklearn.model_selection import train_test_split"
   ]
  },
  {
   "cell_type": "code",
   "execution_count": 2,
   "metadata": {},
   "outputs": [],
   "source": [
    "data_last = pd.read_excel(\"D:\\__Study__\\CluseterTerm\\StatLab\\\\6lab(2016-2017).xlsx\")\n",
    "\n",
    "data_last = data_last.drop('Unnamed: 0', axis=1)\n",
    "data_last= data_last.dropna()\n",
    "data_last = data_last['Цифра']"
   ]
  },
  {
   "cell_type": "code",
   "execution_count": 3,
   "metadata": {},
   "outputs": [],
   "source": [
    "data_new = pd.read_excel(\"D:\\__Study__\\CluseterTerm\\StatLab\\\\6lab(2017-2018).xlsx\")\n",
    "\n",
    "data_new = data_new.drop('id', axis=1)\n",
    "data_new['Цифра'] = data_new['Цифра'].astype(float)\n",
    "data_new = data_new['Цифра']"
   ]
  },
  {
   "cell_type": "code",
   "execution_count": 9,
   "metadata": {},
   "outputs": [
    {
     "name": "stdout",
     "output_type": "stream",
     "text": [
      "Размеры выборок 2017-2018:  30 30\n",
      "Размеры выборок 2016-2017:  58 47 49\n"
     ]
    }
   ],
   "source": [
    "train_data_new, test_data_new = train_test_split(data_new, test_size=0.5, random_state=42)\n",
    "_train_data_last, test_data_last = train_test_split(data_last, test_size=0.3, random_state=42)\n",
    "train_data_last, val_data_last = train_test_split(_train_data_last, test_size=0.45, random_state=42)\n",
    "print('Размеры выборок 2017-2018: ', len(train_data_new), len(test_data_new))\n",
    "print('Размеры выборок 2016-2017: ', len(train_data_last), len(test_data_last),len(val_data_last ))\n"
   ]
  },
  {
   "cell_type": "code",
   "execution_count": 12,
   "metadata": {},
   "outputs": [
    {
     "name": "stdout",
     "output_type": "stream",
     "text": [
      "F-статистика для выборок 2017-2018 годов: 0.9799515035251829\n"
     ]
    }
   ],
   "source": [
    "# Вычисление дисперсий выборок 2017-2018 годов\n",
    "var_new_train = np.var(train_data_new, ddof=1)  # ddof=1 используется для вычисления выборочной дисперсии\n",
    "var_new_test = np.var(test_data_new, ddof=1)\n",
    "f_statistic_new = var_new_train / var_new_test\n",
    "print(\"F-статистика для выборок 2017-2018 годов:\", f_statistic_new)"
   ]
  },
  {
   "cell_type": "code",
   "execution_count": 13,
   "metadata": {},
   "outputs": [
    {
     "name": "stdout",
     "output_type": "stream",
     "text": [
      "F-статистика для критерия Фишера: 0.6914484411517243\n",
      "p-значение для критерия Фишера: 0.502428765477441\n"
     ]
    }
   ],
   "source": [
    "from scipy.stats import f_oneway\n",
    "# Вычисление F-статистики и p-значения для критерия Фишера\n",
    "f_statistic, p_value = f_oneway(train_data_last, test_data_last, val_data_last)\n",
    "\n",
    "print(\"F-статистика для критерия Фишера:\", f_statistic)\n",
    "print(\"p-значение для критерия Фишера:\", p_value)"
   ]
  },
  {
   "cell_type": "markdown",
   "metadata": {},
   "source": [
    "На основе данного анализа можно сказать, что дисперсии этих групп равные"
   ]
  },
  {
   "cell_type": "code",
   "execution_count": null,
   "metadata": {},
   "outputs": [],
   "source": []
  }
 ],
 "metadata": {
  "kernelspec": {
   "display_name": "myvenv",
   "language": "python",
   "name": "python3"
  },
  "language_info": {
   "codemirror_mode": {
    "name": "ipython",
    "version": 3
   },
   "file_extension": ".py",
   "mimetype": "text/x-python",
   "name": "python",
   "nbconvert_exporter": "python",
   "pygments_lexer": "ipython3",
   "version": "3.11.6"
  }
 },
 "nbformat": 4,
 "nbformat_minor": 2
}
