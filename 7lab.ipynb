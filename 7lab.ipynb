{
 "cells": [
  {
   "cell_type": "code",
   "execution_count": 2,
   "metadata": {},
   "outputs": [],
   "source": [
    "import pandas as pd\n",
    "import numpy as np\n",
    "from sklearn.model_selection import train_test_split"
   ]
  },
  {
   "cell_type": "code",
   "execution_count": 4,
   "metadata": {},
   "outputs": [],
   "source": [
    "data_last = pd.read_excel(\"D:\\__Works__\\Лабы\\Stat.Lab-3sem\\\\6lab(2016-2017).xlsx\")\n",
    "\n",
    "data_last = data_last.drop('Unnamed: 0', axis=1)\n",
    "data_last= data_last.dropna()\n",
    "data_last = data_last['Цифра']\n"
   ]
  },
  {
   "cell_type": "code",
   "execution_count": 5,
   "metadata": {},
   "outputs": [],
   "source": [
    "data_new = pd.read_excel(\"D:\\__Works__\\Лабы\\Stat.Lab-3sem\\\\6lab(2017-2018).xlsx\")\n",
    "\n",
    "data_new = data_new.drop('id', axis=1)\n",
    "data_new['Цифра'] = data_new['Цифра'].astype(float)\n",
    "data_new = data_new['Цифра']"
   ]
  },
  {
   "cell_type": "code",
   "execution_count": 16,
   "metadata": {},
   "outputs": [
    {
     "name": "stdout",
     "output_type": "stream",
     "text": [
      "Размеры выборок 2017-2018:  54\n",
      "Размеры выборок 2016-2017:  54 54\n"
     ]
    }
   ],
   "source": [
    "data_2017_2018, _= train_test_split(data_new, test_size=0.1, random_state=42)\n",
    "data_2016_2017, _ = train_test_split(data_last, test_size=0.293, random_state=42)\n",
    "data_2016_2017, data_2016_2017_2 = train_test_split(data_2016_2017, test_size=0.5, random_state=42)\n",
    "\n",
    "print('Размеры выборок 2017-2018: ', len(data_2017_2018))\n",
    "print('Размеры выборок 2016-2017: ', len(data_2016_2017), len(data_2016_2017_2))\n"
   ]
  },
  {
   "cell_type": "code",
   "execution_count": 25,
   "metadata": {},
   "outputs": [
    {
     "name": "stdout",
     "output_type": "stream",
     "text": [
      "Счет руками  1.2800375259286652\n"
     ]
    }
   ],
   "source": [
    "\n",
    "general_mean = np.mean(np.concatenate((data_2016_2017,data_2016_2017_2,data_2016_2017)))\n",
    "MSB = sum([ 54 * (np.mean(sample) - general_mean)**2 for sample in (data_2016_2017,data_2016_2017_2,data_2016_2017) ]) / 2\n",
    "MSW = sum([(value - np.mean(sample))**2 for sample in (data_2016_2017,data_2016_2017_2,data_2016_2017) for value in sample ]) / (3 * 53)\n",
    "F = MSB / MSW\n",
    "print('Счет руками ', F) # "
   ]
  },
  {
   "cell_type": "code",
   "execution_count": 24,
   "metadata": {},
   "outputs": [
    {
     "name": "stdout",
     "output_type": "stream",
     "text": [
      "F-статистика для критерия Фишера: 1.280037525928666\n",
      "p-значение для критерия Фишера: 0.2808760486243191\n"
     ]
    }
   ],
   "source": [
    "from scipy.stats import f_oneway\n",
    "# Вычисление F-статистики и p-значения для критерия Фишера\n",
    "f_statistic, p_value = f_oneway(data_2016_2017,data_2016_2017_2,data_2016_2017)\n",
    "\n",
    "print(\"F-статистика для критерия Фишера:\", f_statistic)\n",
    "print(\"p-значение для критерия Фишера:\", p_value)"
   ]
  },
  {
   "cell_type": "code",
   "execution_count": 55,
   "metadata": {},
   "outputs": [
    {
     "name": "stdout",
     "output_type": "stream",
     "text": [
      "Статистика теста: 2.9806688282317064\n",
      "p-значение: 0.05443814354755112\n",
      "Принимается гипотеза о равенстве дисперсий.\n"
     ]
    }
   ],
   "source": [
    "from scipy.stats import levene\n",
    "# Предполагая, что data_2017_2018, data_2016_2017 и data_2016_2017_2 - это ваши выборки данных\n",
    "stat, p_value = levene(data_2017_2018, data_2016_2017, data_2016_2017_2)\n",
    "\n",
    "# Выведем результаты\n",
    "print(\"Статистика теста:\", stat)\n",
    "print(\"p-значение:\", p_value)\n",
    "\n",
    "# Проверим, принимается ли гипотеза о равенстве дисперсий\n",
    "alpha = 0.05  # Уровень значимости\n",
    "if p_value > alpha:\n",
    "    print(\"Принимается гипотеза о равенстве дисперсий.\")\n",
    "else:\n",
    "    print(\"Отвергается гипотеза о равенстве дисперсий.\")"
   ]
  },
  {
   "cell_type": "markdown",
   "metadata": {},
   "source": [
    "На основе данного анализа можно сказать, что дисперсии этих групп равные"
   ]
  },
  {
   "cell_type": "code",
   "execution_count": 48,
   "metadata": {},
   "outputs": [
    {
     "name": "stdout",
     "output_type": "stream",
     "text": [
      "Размеры выборок 2017-2018:  41\n",
      "Размеры выборок 2016-2017:  42 43\n"
     ]
    }
   ],
   "source": [
    "data_2017_2018, _= train_test_split(data_new, test_size=0.31, random_state=42)\n",
    "data_2016_2017, _ = train_test_split(data_last, test_size=0.293, random_state=42)\n",
    "data_2016_2017, data_2016_2017_2 = train_test_split(data_2016_2017, test_size=0.61, random_state=42)\n",
    "data_2016_2017__, data_2016_2017_2 = train_test_split(data_2016_2017_2, test_size=0.65, random_state=42)\n",
    "\n",
    "\n",
    "print('Размеры выборок 2017-2018: ', len(data_2017_2018))\n",
    "print('Размеры выборок 2016-2017: ', len(data_2016_2017), len(data_2016_2017_2))\n",
    "\n"
   ]
  },
  {
   "cell_type": "markdown",
   "metadata": {},
   "source": [
    "Критерий Фишера"
   ]
  },
  {
   "cell_type": "code",
   "execution_count": 49,
   "metadata": {},
   "outputs": [
    {
     "name": "stdout",
     "output_type": "stream",
     "text": [
      "F-статистика для критерия Фишера: 3.128551320321745\n",
      "p-значение для критерия Фишера: 0.04725598572469426\n"
     ]
    }
   ],
   "source": [
    "from scipy.stats import f_oneway\n",
    "# Вычисление F-статистики и p-значения для критерия Фишера\n",
    "f_statistic, p_value = f_oneway(data_2016_2017,data_2016_2017_2,data_2016_2017)\n",
    "\n",
    "print(\"F-статистика для критерия Фишера:\", f_statistic)\n",
    "print(\"p-значение для критерия Фишера:\", p_value)"
   ]
  },
  {
   "cell_type": "code",
   "execution_count": 59,
   "metadata": {},
   "outputs": [
    {
     "name": "stdout",
     "output_type": "stream",
     "text": [
      "Статистика теста: 3.954330548627867\n",
      "p-значение: 0.13846118098829774\n",
      "Принимается гипотеза о равенстве дисперсий.\n"
     ]
    }
   ],
   "source": [
    "from scipy.stats import bartlett\n",
    "\n",
    "# Предполагая, что data_2017_2018, data_2016_2017 и data_2016_2017_2 - это ваши выборки данных\n",
    "stat, p_value = bartlett(data_2017_2018, data_2016_2017, data_2016_2017_2)\n",
    "\n",
    "# Выведем результаты\n",
    "print(\"Статистика теста:\", stat)\n",
    "print(\"p-значение:\", p_value)\n",
    "\n",
    "# Проверим, принимается ли гипотеза о равенстве дисперсий\n",
    "alpha = 0.05  # Уровень значимости\n",
    "if p_value > alpha:\n",
    "    print(\"Принимается гипотеза о равенстве дисперсий.\")\n",
    "else:\n",
    "    print(\"Отвергается гипотеза о равенстве дисперсий.\")\n"
   ]
  }
 ],
 "metadata": {
  "kernelspec": {
   "display_name": "myvenv",
   "language": "python",
   "name": "python3"
  },
  "language_info": {
   "codemirror_mode": {
    "name": "ipython",
    "version": 3
   },
   "file_extension": ".py",
   "mimetype": "text/x-python",
   "name": "python",
   "nbconvert_exporter": "python",
   "pygments_lexer": "ipython3",
   "version": "3.11.6"
  }
 },
 "nbformat": 4,
 "nbformat_minor": 2
}
