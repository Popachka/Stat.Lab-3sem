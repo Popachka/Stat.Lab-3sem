{
 "cells": [
  {
   "cell_type": "code",
   "execution_count": 1,
   "metadata": {},
   "outputs": [],
   "source": [
    "import numpy as  np\n",
    "import pandas as pd\n",
    "import matplotlib.pyplot as plt\n",
    "from scipy.stats import norm\n",
    "import math"
   ]
  },
  {
   "cell_type": "code",
   "execution_count": 4,
   "metadata": {},
   "outputs": [
    {
     "name": "stdout",
     "output_type": "stream",
     "text": [
      "    Левая  Правая  Разница\n",
      "0    32.5    32.5      0.0\n",
      "1    32.8    31.9      0.9\n",
      "2    31.2    31.6     -0.4\n",
      "3    31.5    32.0     -0.5\n",
      "4    30.1    30.3     -0.2\n",
      "..    ...     ...      ...\n",
      "56   33.4    33.7     -0.3\n",
      "57   33.7    33.3      0.4\n",
      "58   34.7    34.6      0.1\n",
      "59   33.8    34.5     -0.7\n",
      "60   33.8    33.7      0.1\n",
      "\n",
      "[61 rows x 3 columns]\n"
     ]
    }
   ],
   "source": [
    "data = pd.read_excel(\"D:\\__Study__\\CluseterTerm\\StatLab\\Сдать графики\\\\ans_1.xlsx\")\n",
    "data = data[[\"Левая\",\"Правая\"]]\n",
    "data['Разница'] = data['Левая'] - data['Правая']\n",
    "print(data)\n",
    "# print(interval_data_r)\n",
    "# print(interval_data_l)\n",
    "left_val = data[['Левая']].to_numpy()\n",
    "right_val = data[['Правая']].to_numpy()\n",
    "diff = data['Разница'].to_numpy()"
   ]
  },
  {
   "cell_type": "code",
   "execution_count": 9,
   "metadata": {},
   "outputs": [
    {
     "name": "stdout",
     "output_type": "stream",
     "text": [
      "-0.05 0.63\n"
     ]
    }
   ],
   "source": [
    "# Считаем средние значение и std по разнице\n",
    "\n",
    "mean = np.around(np.mean(diff),2)\n",
    "std = np.around(np.std(diff),2)\n",
    "print(mean, std) "
   ]
  },
  {
   "cell_type": "code",
   "execution_count": 6,
   "metadata": {},
   "outputs": [
    {
     "name": "stdout",
     "output_type": "stream",
     "text": [
      "32 1\n",
      "32 1\n"
     ]
    }
   ],
   "source": [
    "mean_l = math.floor(np.mean(left_val))\n",
    "std_l = math.floor(np.std(left_val))\n",
    "mean_r = math.floor(np.mean(right_val))\n",
    "std_r = np.std(right_val)\n",
    "print(mean_l, std_l)\n",
    "print(mean_r, std_r)"
   ]
  },
  {
   "cell_type": "code",
   "execution_count": 11,
   "metadata": {},
   "outputs": [
    {
     "name": "stdout",
     "output_type": "stream",
     "text": [
      "[-0.58915188] [0.5579712]\n",
      "-0.6198610853894171\n"
     ]
    }
   ],
   "source": [
    "from scipy.stats import ttest_rel\n",
    "\n",
    "\n",
    "t_stat, p_value = ttest_rel(left_val,right_val)\n",
    "print(t_stat, p_value)\n",
    "\n"
   ]
  },
  {
   "cell_type": "code",
   "execution_count": 12,
   "metadata": {},
   "outputs": [
    {
     "name": "stdout",
     "output_type": "stream",
     "text": [
      "t-значение: -0.6198610853894171\n",
      "P-значение: 0.7311518538696621\n"
     ]
    }
   ],
   "source": [
    "from scipy.stats import t\n",
    "\n",
    "n = 61\n",
    "degrees_of_freedom = n - 1\n",
    "alpha = 0.05\n",
    "\n",
    "t_stat = mean / (std/np.sqrt(n))\n",
    "print(\"t-значение:\", t_stat)\n",
    "\n",
    "p_value = 1 - t.cdf(t_stat, df=degrees_of_freedom)\n",
    "print(\"P-значение:\", p_value)"
   ]
  },
  {
   "cell_type": "code",
   "execution_count": 14,
   "metadata": {},
   "outputs": [],
   "source": [
    "# На основе двух методов извлечение p - значения можно сделать вывод\n",
    "# Что нулевую гипотезу отклонить нельзя\n",
    "# Следовательно средние равны."
   ]
  }
 ],
 "metadata": {
  "kernelspec": {
   "display_name": "myvenv",
   "language": "python",
   "name": "python3"
  },
  "language_info": {
   "codemirror_mode": {
    "name": "ipython",
    "version": 3
   },
   "file_extension": ".py",
   "mimetype": "text/x-python",
   "name": "python",
   "nbconvert_exporter": "python",
   "pygments_lexer": "ipython3",
   "version": "3.11.6"
  }
 },
 "nbformat": 4,
 "nbformat_minor": 2
}
